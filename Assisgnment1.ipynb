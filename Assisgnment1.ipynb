{
 "cells": [
  {
   "cell_type": "markdown",
   "id": "19fb8f20",
   "metadata": {},
   "source": [
    "## Question 1"
   ]
  },
  {
   "cell_type": "code",
   "execution_count": 1,
   "id": "76a41f6f",
   "metadata": {},
   "outputs": [
    {
     "name": "stdout",
     "output_type": "stream",
     "text": [
      "Enter a word to reverse itjupyter\n",
      "retypuj\n"
     ]
    }
   ],
   "source": [
    "#Write a python program that accepts a word from the user and reverses it.\n",
    "\n",
    "word=input(\"Enter a word to reverse it\")\n",
    "reverse=word[::-1]\n",
    "print(reverse)"
   ]
  },
  {
   "cell_type": "markdown",
   "id": "1d4b351e",
   "metadata": {},
   "source": [
    "## Question 2"
   ]
  },
  {
   "cell_type": "code",
   "execution_count": 4,
   "id": "936febbb",
   "metadata": {},
   "outputs": [
    {
     "name": "stdout",
     "output_type": "stream",
     "text": [
      "[1, 2, 3, 4, 5]\n"
     ]
    }
   ],
   "source": [
    "#Write a python function that takes a list and return a unique list.\n",
    "\n",
    "Sample_list=[1,2,3,3,3,3,4,5]\n",
    "Unique_list=[]\n",
    "for a in Sample_list:\n",
    "    if a not in Unique_list:\n",
    "        Unique_list.append(a)\n",
    "print(Unique_list)"
   ]
  },
  {
   "cell_type": "markdown",
   "id": "7802458a",
   "metadata": {},
   "source": [
    "## Question 3"
   ]
  },
  {
   "cell_type": "code",
   "execution_count": 13,
   "id": "096f0ac0",
   "metadata": {},
   "outputs": [
    {
     "name": "stdout",
     "output_type": "stream",
     "text": [
      "Enter 1st number: 1\n",
      "Enter 2nd number: 10\n",
      "Enter 3rd number: 100\n",
      "Maximum among the three numbers is: 100\n"
     ]
    }
   ],
   "source": [
    "def max_of_three(a, b, c):\n",
    "    if a > b and a > c:\n",
    "        return a\n",
    "    elif b > a and b > c:\n",
    "        return b\n",
    "    elif c > a and c > b:\n",
    "        return c\n",
    "    else:\n",
    "        return \"All numbers are equal\"\n",
    "\n",
    "x = int(input(\"Enter 1st number: \"))\n",
    "y = int(input(\"Enter 2nd number: \"))\n",
    "z = int(input(\"Enter 3rd number: \"))\n",
    "result = max_of_three(x, y, z)\n",
    "print(\"Maximum among the three numbers is:\", result)\n"
   ]
  },
  {
   "cell_type": "markdown",
   "id": "7d5b488f",
   "metadata": {},
   "source": [
    "## Question 4"
   ]
  },
  {
   "cell_type": "code",
   "execution_count": 16,
   "id": "19ea68ef",
   "metadata": {},
   "outputs": [
    {
     "name": "stdout",
     "output_type": "stream",
     "text": [
      "The sum of all numbers in a list is: 15\n"
     ]
    }
   ],
   "source": [
    "# Write a python program to sum all the numbers in a list.\n",
    "\n",
    "l=[1,2,3,4,5]\n",
    "sum=0\n",
    "for a in l:\n",
    "   sum=sum+a\n",
    "print(\"The sum of all numbers in a list is:\",sum)\n",
    "    "
   ]
  },
  {
   "cell_type": "code",
   "execution_count": null,
   "id": "0418d302",
   "metadata": {},
   "outputs": [],
   "source": []
  }
 ],
 "metadata": {
  "kernelspec": {
   "display_name": "Python 3 (ipykernel)",
   "language": "python",
   "name": "python3"
  },
  "language_info": {
   "codemirror_mode": {
    "name": "ipython",
    "version": 3
   },
   "file_extension": ".py",
   "mimetype": "text/x-python",
   "name": "python",
   "nbconvert_exporter": "python",
   "pygments_lexer": "ipython3",
   "version": "3.11.5"
  }
 },
 "nbformat": 4,
 "nbformat_minor": 5
}

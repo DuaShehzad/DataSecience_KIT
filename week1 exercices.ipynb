{
 "cells": [
  {
   "cell_type": "markdown",
   "id": "b7a2fe56",
   "metadata": {},
   "source": [
    "## Exercise1"
   ]
  },
  {
   "cell_type": "code",
   "execution_count": 2,
   "id": "374c64dd",
   "metadata": {},
   "outputs": [
    {
     "name": "stdout",
     "output_type": "stream",
     "text": [
      "Enter radius:2\n",
      "The area of a circle is  12.568\n"
     ]
    }
   ],
   "source": [
    "#python program to calculate area of a circle based on radius entered by the user\n",
    "\n",
    "r=int(input(\"Enter radius:\"))\n",
    "a=3.142*r**2\n",
    "print(\"The area of a circle is \",a)"
   ]
  },
  {
   "cell_type": "markdown",
   "id": "7479fedc",
   "metadata": {},
   "source": [
    "## Exercise2"
   ]
  },
  {
   "cell_type": "code",
   "execution_count": 3,
   "id": "9147921d",
   "metadata": {},
   "outputs": [
    {
     "name": "stdout",
     "output_type": "stream",
     "text": [
      "Enter 1st value: 10\n",
      "Enter 2nd value: 20\n",
      "20  is maximum\n"
     ]
    }
   ],
   "source": [
    "#Find maximum of two numbers using functions\n",
    "def max(a,b):\n",
    "    if(a>b):\n",
    "        print(a,\" is maximum\")\n",
    "    else:\n",
    "        print(b,\" is maximum\")\n",
    "        \n",
    "x=int(input(\"Enter 1st value: \"))\n",
    "y=int(input(\"Enter 2nd value: \"))\n",
    "max(x,y)"
   ]
  },
  {
   "cell_type": "markdown",
   "id": "b7e81121",
   "metadata": {},
   "source": [
    "## Exercise3"
   ]
  },
  {
   "cell_type": "code",
   "execution_count": 4,
   "id": "a6ca5593",
   "metadata": {},
   "outputs": [
    {
     "name": "stdout",
     "output_type": "stream",
     "text": [
      "Enter the element you want to search in the list:4\n",
      "4 is found in the list\n"
     ]
    }
   ],
   "source": [
    "#Find if an element exist in a list using loop\n",
    "l=[1,2,3,4,5]\n",
    "a=int(input(\"Enter the element you want to search in the list:\"))\n",
    "found=False\n",
    "for i in l:\n",
    "    if(i==a):\n",
    "        found=True\n",
    "        break\n",
    "if(found):\n",
    "    print(a ,\"is found in the list\")\n",
    "else:\n",
    "    print(a, \"is not found in the list\")"
   ]
  },
  {
   "cell_type": "code",
   "execution_count": null,
   "id": "09733866",
   "metadata": {},
   "outputs": [],
   "source": []
  }
 ],
 "metadata": {
  "kernelspec": {
   "display_name": "Python 3 (ipykernel)",
   "language": "python",
   "name": "python3"
  },
  "language_info": {
   "codemirror_mode": {
    "name": "ipython",
    "version": 3
   },
   "file_extension": ".py",
   "mimetype": "text/x-python",
   "name": "python",
   "nbconvert_exporter": "python",
   "pygments_lexer": "ipython3",
   "version": "3.11.5"
  }
 },
 "nbformat": 4,
 "nbformat_minor": 5
}
